{
 "cells": [
  {
   "cell_type": "markdown",
   "metadata": {},
   "source": [
    "<img src='logo.jpg'>"
   ]
  },
  {
   "cell_type": "markdown",
   "metadata": {},
   "source": [
    "## RNN Exercise\n",
    "### Time Series Perediction\n",
    "### Neural Network Course (Dr.Azadeh Mansouri)\n",
    "### Kharazmi University \n",
    "### Department of computer and electrical engineering\n",
    "\n",
    "\n",
    "### ---------------------------------------------------------------------\n",
    "\n",
    "### Ali Forghani Elah Abadi\n",
    "### Student Number : 973082512 "
   ]
  },
  {
   "cell_type": "code",
   "execution_count": 0,
   "metadata": {
    "colab": {},
    "colab_type": "code",
    "id": "VzrzXHuJd3qg"
   },
   "outputs": [],
   "source": [
    "#import packages\n",
    "\n",
    "import tensorflow as tf     \n",
    "import pandas as pd\n",
    "import numpy as np\n",
    "\n",
    "import matplotlib.pyplot as plt\n",
    "\n",
    "import sklearn as sk\n",
    "from sklearn import preprocessing as ppr"
   ]
  },
  {
   "cell_type": "code",
   "execution_count": 0,
   "metadata": {
    "colab": {
     "base_uri": "https://localhost:8080/",
     "height": 36
    },
    "colab_type": "code",
    "id": "ecNS4Un7eHX1",
    "outputId": "633c04f9-55e2-4648-a8dd-3b095360b178"
   },
   "outputs": [
    {
     "name": "stdout",
     "output_type": "stream",
     "text": [
      "Drive already mounted at /content/drive/; to attempt to forcibly remount, call drive.mount(\"/content/drive/\", force_remount=True).\n"
     ]
    }
   ],
   "source": [
    "#connect google drive to google colabratory\n",
    "\n",
    "from google.colab import drive\n",
    "drive.mount('/content/drive/')"
   ]
  },
  {
   "cell_type": "code",
   "execution_count": 0,
   "metadata": {
    "colab": {},
    "colab_type": "code",
    "id": "43ntXgbweKmk"
   },
   "outputs": [],
   "source": [
    "#generate data from dataset csv file \n",
    "\n",
    "dataFrame = pd.read_csv('/content/drive/My Drive/Colab Notebooks/RNN/airline-passengers.csv', usecols = [1], header = 0)[:-1]\n",
    "dataset_orig = dataFrame.values.astype(np.float32)"
   ]
  },
  {
   "cell_type": "code",
   "execution_count": 0,
   "metadata": {
    "colab": {
     "base_uri": "https://localhost:8080/",
     "height": 283
    },
    "colab_type": "code",
    "id": "oWKBXMeieUeJ",
    "outputId": "5ad97e82-3a0a-4c03-bd64-ce5d7eae4868"
   },
   "outputs": [
    {
     "data": {
      "image/png": "[encoded data removed]",
      "text/plain": [
       "<Figure size 432x288 with 1 Axes>"
      ]
     },
     "metadata": {
      "tags": []
     },
     "output_type": "display_data"
    }
   ],
   "source": [
    "#plot raw data\n",
    "\n",
    "plt.plot(dataset_orig, label = \"Original Data\", c = 'g')\n",
    "plt.legend()\n",
    "plt.xlabel('TimeStamps')\n",
    "plt.ylabel(\"Total Passengers\")\n",
    "plt.show()"
   ]
  },
  {
   "cell_type": "code",
   "execution_count": 0,
   "metadata": {
    "colab": {},
    "colab_type": "code",
    "id": "iPO0RqAceYKD"
   },
   "outputs": [],
   "source": [
    "# normalize the dataset\n",
    "scaler = ppr.MinMaxScaler(feature_range=(0, 1))\n",
    "dataset = scaler.fit_transform(dataset_orig)"
   ]
  },
  {
   "cell_type": "code",
   "execution_count": 0,
   "metadata": {
    "colab": {},
    "colab_type": "code",
    "id": "UMccrLRkecgH"
   },
   "outputs": [],
   "source": [
    "#function definition to splitting data to train and test\n",
    "\n",
    "def train_test_set(dataset, percentage_train = 0.75):\n",
    "    l = len(dataset)\n",
    "    train_set_end_index = int(l * 0.67)\n",
    "    test_set_start_index = train_set_end_index + 1\n",
    "    train_set = dataset[:test_set_start_index]\n",
    "    test_set = dataset[test_set_start_index:]\n",
    "    return train_set, test_set\n",
    "\n",
    "def supervised_learning_form(train_dataset, test_dataset):\n",
    "    train_x = train_dataset[:-1]\n",
    "    train_y = train_dataset[1:]\n",
    "    test_x = test_dataset[:-1]\n",
    "    test_y = test_dataset[1:]\n",
    "    return train_x, train_y, test_x, test_y"
   ]
  },
  {
   "cell_type": "code",
   "execution_count": 0,
   "metadata": {
    "colab": {},
    "colab_type": "code",
    "id": "IcoTy2uyegWi"
   },
   "outputs": [],
   "source": [
    "#splitting data to train and test\n",
    "train_set, test_set = train_test_set(dataset)\n",
    "train_x, train_y, test_x, test_y = supervised_learning_form(train_set, test_set)"
   ]
  },
  {
   "cell_type": "code",
   "execution_count": 0,
   "metadata": {
    "colab": {},
    "colab_type": "code",
    "id": "9xDtUIvgej2U"
   },
   "outputs": [],
   "source": [
    "# network parameters\n",
    "\n",
    "net_size = 20\n",
    "n_epochs = 2000\n",
    "n_x = 1\n",
    "n_y = 1\n",
    "n_timestamp = n_x\n",
    "n_x_vars = 1\n",
    "n_y_vars = 1\n",
    "learning_rate = 0.08"
   ]
  },
  {
   "cell_type": "code",
   "execution_count": 0,
   "metadata": {
    "colab": {},
    "colab_type": "code",
    "id": "l-wv4r2geos2"
   },
   "outputs": [],
   "source": [
    "tf.reset_default_graph()"
   ]
  },
  {
   "cell_type": "code",
   "execution_count": 0,
   "metadata": {
    "colab": {
     "base_uri": "https://localhost:8080/",
     "height": 282
    },
    "colab_type": "code",
    "id": "L8mxq4axer0T",
    "outputId": "6f26f7d1-dc91-4fcd-ded5-5df6a463fa2a"
   },
   "outputs": [
    {
     "name": "stderr",
     "output_type": "stream",
     "text": [
      "WARNING: Logging before flag parsing goes to stderr.\n",
      "W0627 15:08:23.509525 139644203726720 deprecation.py:323] From <ipython-input-10-8b5adadc92e4>:8: LSTMCell.__init__ (from tensorflow.python.ops.rnn_cell_impl) is deprecated and will be removed in a future version.\n",
      "Instructions for updating:\n",
      "This class is equivalent as tf.keras.layers.LSTMCell, and will be replaced by that in Tensorflow 2.0.\n",
      "W0627 15:08:23.511293 139644203726720 deprecation.py:323] From <ipython-input-10-8b5adadc92e4>:9: static_rnn (from tensorflow.python.ops.rnn) is deprecated and will be removed in a future version.\n",
      "Instructions for updating:\n",
      "Please use `keras.layers.RNN(cell, unroll=True)`, which is equivalent to this API\n",
      "W0627 15:08:23.537526 139644203726720 deprecation.py:506] From /usr/local/lib/python3.6/dist-packages/tensorflow/python/ops/init_ops.py:1251: calling VarianceScaling.__init__ (from tensorflow.python.ops.init_ops) with dtype is deprecated and will be removed in a future version.\n",
      "Instructions for updating:\n",
      "Call initializer instance with the dtype argument instead of passing it to the constructor\n",
      "W0627 15:08:23.550491 139644203726720 deprecation.py:506] From /usr/local/lib/python3.6/dist-packages/tensorflow/python/ops/rnn_cell_impl.py:961: calling Zeros.__init__ (from tensorflow.python.ops.init_ops) with dtype is deprecated and will be removed in a future version.\n",
      "Instructions for updating:\n",
      "Call initializer instance with the dtype argument instead of passing it to the constructor\n"
     ]
    }
   ],
   "source": [
    "# input and output placeholders\n",
    "X_p = tf.placeholder(tf.float32, [None, n_timestamp, n_x_vars], name = \"X_input\")\n",
    "Y_p = tf.placeholder(tf.float32, [None, n_timestamp, n_y_vars], name = \"Y_output\")\n",
    "\n",
    "rnn_inputs = tf.unstack(X_p, axis = 1)\n",
    "\n",
    "# setup the RNN\n",
    "with tf.name_scope(\"RNN\"):\n",
    "    rnnCell = tf.nn.rnn_cell.LSTMCell(net_size, name = \"rnn_cell\")\n",
    "    rnn_outputs, final_state = tf.nn.static_rnn(rnnCell, rnn_inputs, dtype=tf.float32)\n",
    "\n",
    "    # weights and biases\n",
    "\n",
    "    W = tf.get_variable('W', [net_size, n_y_vars])\n",
    "    b = tf.get_variable('b', [n_y_vars], initializer=tf.constant_initializer(0.0))"
   ]
  },
  {
   "cell_type": "code",
   "execution_count": 0,
   "metadata": {
    "colab": {},
    "colab_type": "code",
    "id": "Qxm1pIIxew98"
   },
   "outputs": [],
   "source": [
    "# run predictions\n",
    "predictions = [tf.matmul(rnn_output, W) + b for rnn_output in rnn_outputs]"
   ]
  },
  {
   "cell_type": "code",
   "execution_count": 0,
   "metadata": {
    "colab": {},
    "colab_type": "code",
    "id": "1SdPqDkAe0Mn"
   },
   "outputs": [],
   "source": [
    "y_as_list = tf.unstack(Y_p, num = n_timestamp, axis = 1)"
   ]
  },
  {
   "cell_type": "code",
   "execution_count": 0,
   "metadata": {
    "colab": {
     "base_uri": "https://localhost:8080/",
     "height": 150
    },
    "colab_type": "code",
    "id": "HNKLIyJGiHXj",
    "outputId": "8e621d4d-dfb3-4895-db38-17ecf1e36b9b"
   },
   "outputs": [
    {
     "name": "stderr",
     "output_type": "stream",
     "text": [
      "W0627 15:23:17.632296 139644203726720 deprecation.py:323] From /usr/local/lib/python3.6/dist-packages/tensorflow/python/ops/losses/losses_impl.py:121: add_dispatch_support.<locals>.wrapper (from tensorflow.python.ops.array_ops) is deprecated and will be removed in a future version.\n",
      "Instructions for updating:\n",
      "Use tf.where in 2.0, which has the same broadcast rule as np.where\n",
      "W0627 15:23:17.755704 139644203726720 deprecation.py:506] From /usr/local/lib/python3.6/dist-packages/tensorflow/python/training/adagrad.py:76: calling Constant.__init__ (from tensorflow.python.ops.init_ops) with dtype is deprecated and will be removed in a future version.\n",
      "Instructions for updating:\n",
      "Call initializer instance with the dtype argument instead of passing it to the constructor\n"
     ]
    }
   ],
   "source": [
    "#set mean square loss\n",
    "\n",
    "losses = [tf.losses.mean_squared_error(labels = label, predictions = prediction) \n",
    "          for prediction, label in zip(predictions, y_as_list)]\n",
    "total_loss = tf.reduce_mean(losses)\n",
    "optimizer = tf.train.AdagradOptimizer(learning_rate).minimize(total_loss)"
   ]
  },
  {
   "cell_type": "code",
   "execution_count": 0,
   "metadata": {
    "colab": {
     "base_uri": "https://localhost:8080/",
     "height": 432
    },
    "colab_type": "code",
    "id": "zq9RJapwiLRF",
    "outputId": "ba44127e-5f38-4194-b1e3-2d12800b4ed2"
   },
   "outputs": [
    {
     "name": "stdout",
     "output_type": "stream",
     "text": [
      "Loss after epoch 0 : 0.06099968\n",
      "Loss after epoch 100 : 0.013109326\n",
      "Loss after epoch 200 : 0.009432044\n",
      "Loss after epoch 300 : 0.0064909225\n",
      "Loss after epoch 400 : 0.0043991427\n",
      "Loss after epoch 500 : 0.0031226855\n",
      "Loss after epoch 600 : 0.0024542366\n",
      "Loss after epoch 700 : 0.0021469137\n",
      "Loss after epoch 800 : 0.002018876\n",
      "Loss after epoch 900 : 0.001969046\n",
      "Loss after epoch 1000 : 0.0019504812\n",
      "Loss after epoch 1100 : 0.0019437341\n",
      "Loss after epoch 1200 : 0.0019413007\n",
      "Loss after epoch 1300 : 0.0019404085\n",
      "Loss after epoch 1400 : 0.0019400612\n",
      "Loss after epoch 1500 : 0.0019399041\n",
      "Loss after epoch 1600 : 0.0019398141\n",
      "Loss after epoch 1700 : 0.0019397469\n",
      "Loss after epoch 1800 : 0.0019396881\n",
      "Loss after epoch 1900 : 0.0019396327\n",
      "Training mse :0.0019395789\n",
      "Testing mse :0.008976447\n"
     ]
    }
   ],
   "source": [
    "#training with run session in loop\n",
    "\n",
    "with tf.Session() as sess:\n",
    "    sess.run(tf.global_variables_initializer())\n",
    "    epoch_loss = 0.0\n",
    "    \n",
    "    # tensorboard\n",
    "    writer = tf.summary.FileWriter('./log', sess.graph)\n",
    "    # training\n",
    "    \n",
    "    for epoch in range(n_epochs):\n",
    "        \n",
    "        # first loss, then predict, then run optimizer till n_epochs\n",
    "        \n",
    "        \n",
    "        \n",
    "        epoch_loss, y_train_prediction,_ = sess.run([total_loss, predictions, optimizer], \n",
    "                 feed_dict = { X_p : train_x.reshape(-1, n_timestamp, n_x_vars), \n",
    "                              Y_p : train_y.reshape(-1, n_timestamp, n_y_vars) })\n",
    "        \n",
    "        if epoch % 100 == 0:\n",
    "            print(\"Loss after epoch \" + str(epoch) + \" : \" + str(epoch_loss))\n",
    "        \n",
    "    print(\"Training mse :\" + str(epoch_loss))\n",
    "    \n",
    "    #testing\n",
    "    \n",
    "    test_loss, y_test_prediction, _ = sess.run([total_loss, predictions, optimizer],\n",
    "                  feed_dict = { X_p : test_x.reshape(-1, n_timestamp, n_x_vars), \n",
    "                                Y_p : test_y.reshape(-1, n_timestamp, n_y_vars) })\n",
    "    print(\"Testing mse :\" + str(test_loss))"
   ]
  },
  {
   "cell_type": "code",
   "execution_count": 0,
   "metadata": {
    "colab": {},
    "colab_type": "code",
    "id": "ld8Yd56xiQgw"
   },
   "outputs": [],
   "source": [
    "\n",
    "y_train_prediction = scaler.inverse_transform(y_train_prediction[0])\n",
    "y_test_prediction = scaler.inverse_transform(y_test_prediction[0])"
   ]
  },
  {
   "cell_type": "code",
   "execution_count": 0,
   "metadata": {
    "colab": {},
    "colab_type": "code",
    "id": "ErITXO7hiTuq"
   },
   "outputs": [],
   "source": [
    "\n",
    "y_train_orig = scaler.inverse_transform(train_y)"
   ]
  },
  {
   "cell_type": "code",
   "execution_count": 0,
   "metadata": {
    "colab": {},
    "colab_type": "code",
    "id": "PsASkmITiXob"
   },
   "outputs": [],
   "source": [
    "\n",
    "y_test_orig = scaler.inverse_transform(test_y)"
   ]
  },
  {
   "cell_type": "code",
   "execution_count": 0,
   "metadata": {
    "colab": {},
    "colab_type": "code",
    "id": "cF5YgZjgiaYs"
   },
   "outputs": [],
   "source": [
    "y_test_prediction_shifted = np.empty_like(dataset_orig)\n",
    "y_test_prediction_shifted[:len(y_train_orig) + 1] = np.nan\n",
    "y_test_prediction_shifted[len(y_train_orig) + 1:-1] = y_test_prediction\n",
    "y_test_prediction_shifted[-1] = np.nan"
   ]
  },
  {
   "cell_type": "code",
   "execution_count": 0,
   "metadata": {
    "colab": {
     "base_uri": "https://localhost:8080/",
     "height": 269
    },
    "colab_type": "code",
    "id": "BpHkNzzLic3Z",
    "outputId": "5e8793fa-8ffc-4ecc-ef53-7907f58a91d0"
   },
   "outputs": [
    {
     "data": {
      "image/png": "[encoded data removed]",
      "text/plain": [
       "<Figure size 432x288 with 1 Axes>"
      ]
     },
     "metadata": {
      "tags": []
     },
     "output_type": "display_data"
    }
   ],
   "source": [
    "plt.plot(dataset_orig, label = \"original dataset\", c = 'b')\n",
    "plt.plot(y_train_prediction, label = \"Training set\", c = 'g')\n",
    "plt.plot(y_test_prediction_shifted, label = \"Prediction in test set\", c = 'r')\n",
    "plt.legend()\n",
    "plt.show()"
   ]
  },
  {
   "cell_type": "markdown",
   "metadata": {},
   "source": [
    "## Report "
   ]
  },
  {
   "cell_type": "markdown",
   "metadata": {},
   "source": [
    "<p dir = 'rtl' style=\"text-align:right;\">  \n",
    "   به عنوان گزارش خلاصه ای از روند اجرا شده در بالا باید گفت پس از دریافت فایل دیتا ست از گوگل درایو آن را لود نموده و داده ها را طوری به دو مجموعه آموزش و تست تجزیه میکنیم که هر برچسب به ازای هر داده آموزشی نشانه تعداد مسافرین در ماه بعدی آن داده است . سپس با ست کردن هایپر پارامتر های شبکه و پس از آن ایجاد پلیس هولدر هایی به عنوان مکان خالی برای متغیر های هر بچ داده که قرار است به طور موازی محاسبه شوند تعریف میشود. بعد از آن با تعریف یک سلول شبکه ریکارنت و پیکر بندی آن و همچنین تنظیم تابع خطا بر روی میانگین مربعات خطا و دستور مینیمایز کردن آن در حلقه ای هر بار یک سشن ران میکنیم و در طی آن فرآیند آموزش را به انجام میرسانیم . در نهایت خروجی مشاهده شده بیانگر پیش بینی انجام شده ما روی داده های تست خواهد بود. \n",
    "</p>"
   ]
  }
 ],
 "metadata": {
  "colab": {
   "collapsed_sections": [],
   "name": "RNN.ipynb",
   "provenance": [],
   "version": "0.3.2"
  },
  "kernelspec": {
   "display_name": "Python 3",
   "language": "python",
   "name": "python3"
  },
  "language_info": {
   "codemirror_mode": {
    "name": "ipython",
    "version": 3
   },
   "file_extension": ".py",
   "mimetype": "text/x-python",
   "name": "python",
   "nbconvert_exporter": "python",
   "pygments_lexer": "ipython3",
   "version": "3.6.5"
  }
 },
 "nbformat": 4,
 "nbformat_minor": 1
}
